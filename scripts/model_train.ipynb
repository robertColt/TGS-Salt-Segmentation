{
 "cells": [
  {
   "cell_type": "code",
   "execution_count": 10,
   "metadata": {},
   "outputs": [],
   "source": [
    "import numpy as np\n",
    "from keras.models import load_model\n",
    "import imgaug as ia\n",
    "from imgaug import augmenters as iaa"
   ]
  },
  {
   "cell_type": "markdown",
   "metadata": {},
   "source": [
    "# Define Paths and load data"
   ]
  },
  {
   "cell_type": "code",
   "execution_count": 3,
   "metadata": {},
   "outputs": [],
   "source": [
    "train_img_path = '../data/train/'\n",
    "model_name = 'ksamxamx.h5'\n",
    "model_path = '../models/' + model_name\n",
    "x_train_path = train_img_path + 'x_train.npy'\n",
    "y_train_path = train_img_path + 'y_train.npy'\n",
    "x_valid_path = train_img_path + 'x_valid.npy'\n",
    "y_valid_path = train_img_path + 'y_valid.npy'\n",
    "\n",
    "\n",
    "x_train = (train_img_path + x_train_path)\n",
    "y_train= (train_img_path + y_train_path)\n",
    "x_valid = (train_img_path + x_valid_path)\n",
    "y_valid = (train_img_path + y_valid_path)"
   ]
  },
  {
   "cell_type": "markdown",
   "metadata": {},
   "source": [
    "# Define augmentation sequence"
   ]
  },
  {
   "cell_type": "code",
   "execution_count": 11,
   "metadata": {},
   "outputs": [],
   "source": [
    "# sometimes = lambda aug: iaa.Sometimes(0.5, aug)\n",
    "# augment 50% of the time images: flip left right || affine || crop and pad\n",
    "aug_sequence = iaa.Sequential([\n",
    "    iaa.Fliplr(0.5),\n",
    "    iaa.OneOf([\n",
    "        iaa.Noop(),\n",
    "        iaa.Affine(rotate=(-10, 10), translate_percent={\"x\": (-0.25, 0.25)}, mode='symmetric', cval=(0), backend=\"cv2\"),\n",
    "        iaa.Noop(),\n",
    "        iaa.CropAndPad(\n",
    "            percent=(-0.2, 0.2),\n",
    "            pad_mode=\"reflect\",\n",
    "            pad_cval=0,\n",
    "            keep_size=False\n",
    "        ),\n",
    "    ])\n",
    "])\n",
    "\n",
    "\n",
    "# method for image augmentation\n",
    "def augment(x_train, y_train):\n",
    "    seq_det = aug_sequence.to_deterministic()\n",
    "    X_train_aug = seq_det.augment_image(x_train)\n",
    "    \n",
    "    y_train_aug = seq_det.augment_image(y_train)\n",
    "\n",
    "    return np.array(x_train_aug), np.array(y_train_aug)\n"
   ]
  },
  {
   "cell_type": "markdown",
   "metadata": {},
   "source": [
    "# Define image generator with augmentation"
   ]
  },
  {
   "cell_type": "code",
   "execution_count": 12,
   "metadata": {},
   "outputs": [],
   "source": [
    "# data generator from given images\n",
    "def make_image_gen(x_train, y_train, batch_size=32):\n",
    "    all_batches_index = np.arange(0, x_train.shape[0])\n",
    "    out_images = []\n",
    "    out_masks = []\n",
    "    \n",
    "    while True:\n",
    "        np.random.shuffle(all_batches_index)\n",
    "        for index in all_batches_index:\n",
    "            img, mask = augment(x_train[index], y_train[index])\n",
    "\n",
    "            out_images += [img]\n",
    "            out_masks += [mask]\n",
    "            if len(out_images) >= batch_size:\n",
    "                yield np.stack(out_images, 0), np.stack(out_masks, 0)\n",
    "                out_images, out_masks = [], []"
   ]
  },
  {
   "cell_type": "code",
   "execution_count": null,
   "metadata": {},
   "outputs": [],
   "source": []
  }
 ],
 "metadata": {
  "kernelspec": {
   "display_name": "Python 3",
   "language": "python",
   "name": "python3"
  },
  "language_info": {
   "codemirror_mode": {
    "name": "ipython",
    "version": 3
   },
   "file_extension": ".py",
   "mimetype": "text/x-python",
   "name": "python",
   "nbconvert_exporter": "python",
   "pygments_lexer": "ipython3",
   "version": "3.6.8"
  }
 },
 "nbformat": 4,
 "nbformat_minor": 2
}
