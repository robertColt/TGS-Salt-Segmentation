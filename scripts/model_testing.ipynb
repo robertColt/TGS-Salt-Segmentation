{
 "cells": [
  {
   "cell_type": "code",
   "execution_count": 1,
   "metadata": {},
   "outputs": [
    {
     "name": "stderr",
     "output_type": "stream",
     "text": [
      "Using TensorFlow backend.\n"
     ]
    }
   ],
   "source": [
    "import os\n",
    "\n",
    "import numpy as np\n",
    "\n",
    "from keras.models import load_model\n",
    "\n",
    "import cv2\n",
    "\n",
    "import pandas as pd\n",
    "\n",
    "import time\n",
    "\n",
    "import loss_functions\n"
   ]
  },
  {
   "cell_type": "code",
   "execution_count": 6,
   "metadata": {},
   "outputs": [],
   "source": [
    "model_name = 'unet_vanilla_128_adam_binary-crossentropy_iou-metric-64.h5'\n",
    "model_path = '../models/trained/' + model_name\n",
    "model_input_size = 101 if '101' in model_path else 128\n",
    "\n",
    "test_img_path = '../data/test/'\n",
    "valid_img_path = '../data/{}/all_samples/'.format(model_input_size)\n",
    "submission_path = '../submissions/'+ model_path.split('/')[-1][:-3] + '.csv'\n",
    "\n",
    "need_resize = model_input_size != 101"
   ]
  },
  {
   "cell_type": "code",
   "execution_count": 7,
   "metadata": {},
   "outputs": [],
   "source": [
    "for root, dirs, test_img_names in os.walk(test_img_path):\n",
    "    test_img_ids = [img_name[:-4] for img_name in test_img_names]\n",
    "    test_img_paths = [test_img_path + img_name for img_name in test_img_names]"
   ]
  },
  {
   "cell_type": "code",
   "execution_count": 8,
   "metadata": {},
   "outputs": [],
   "source": [
    "x_valid = np.load(valid_img_path + 'x_valid.npy')\n",
    "y_valid = np.load(valid_img_path + 'y_valid.npy')"
   ]
  },
  {
   "cell_type": "code",
   "execution_count": 17,
   "metadata": {},
   "outputs": [
    {
     "data": {
      "text/plain": [
       "(128, 128, 1)"
      ]
     },
     "execution_count": 17,
     "metadata": {},
     "output_type": "execute_result"
    }
   ],
   "source": [
    "x_valid[i].shape"
   ]
  },
  {
   "cell_type": "code",
   "execution_count": 9,
   "metadata": {
    "scrolled": true
   },
   "outputs": [
    {
     "name": "stderr",
     "output_type": "stream",
     "text": [
      "WARNING: Logging before flag parsing goes to stderr.\n",
      "W0813 11:42:32.053045  7656 deprecation_wrapper.py:119] From c:\\users\\robert.colt\\appdata\\local\\programs\\python\\python36\\lib\\site-packages\\keras\\backend\\tensorflow_backend.py:517: The name tf.placeholder is deprecated. Please use tf.compat.v1.placeholder instead.\n",
      "\n",
      "W0813 11:42:32.093052  7656 deprecation_wrapper.py:119] From c:\\users\\robert.colt\\appdata\\local\\programs\\python\\python36\\lib\\site-packages\\keras\\backend\\tensorflow_backend.py:4138: The name tf.random_uniform is deprecated. Please use tf.random.uniform instead.\n",
      "\n",
      "W0813 11:42:32.129042  7656 deprecation_wrapper.py:119] From c:\\users\\robert.colt\\appdata\\local\\programs\\python\\python36\\lib\\site-packages\\keras\\backend\\tensorflow_backend.py:245: The name tf.get_default_graph is deprecated. Please use tf.compat.v1.get_default_graph instead.\n",
      "\n",
      "W0813 11:42:32.129042  7656 deprecation_wrapper.py:119] From c:\\users\\robert.colt\\appdata\\local\\programs\\python\\python36\\lib\\site-packages\\keras\\backend\\tensorflow_backend.py:174: The name tf.get_default_session is deprecated. Please use tf.compat.v1.get_default_session instead.\n",
      "\n",
      "W0813 11:42:32.129042  7656 deprecation_wrapper.py:119] From c:\\users\\robert.colt\\appdata\\local\\programs\\python\\python36\\lib\\site-packages\\keras\\backend\\tensorflow_backend.py:181: The name tf.ConfigProto is deprecated. Please use tf.compat.v1.ConfigProto instead.\n",
      "\n",
      "W0813 11:42:32.165031  7656 deprecation_wrapper.py:119] From c:\\users\\robert.colt\\appdata\\local\\programs\\python\\python36\\lib\\site-packages\\keras\\backend\\tensorflow_backend.py:1834: The name tf.nn.fused_batch_norm is deprecated. Please use tf.compat.v1.nn.fused_batch_norm instead.\n",
      "\n",
      "W0813 11:42:32.308996  7656 deprecation_wrapper.py:119] From c:\\users\\robert.colt\\appdata\\local\\programs\\python\\python36\\lib\\site-packages\\keras\\backend\\tensorflow_backend.py:3976: The name tf.nn.max_pool is deprecated. Please use tf.nn.max_pool2d instead.\n",
      "\n",
      "W0813 11:42:35.425498  7656 deprecation_wrapper.py:119] From c:\\users\\robert.colt\\appdata\\local\\programs\\python\\python36\\lib\\site-packages\\keras\\optimizers.py:790: The name tf.train.Optimizer is deprecated. Please use tf.compat.v1.train.Optimizer instead.\n",
      "\n",
      "W0813 11:42:35.431565  7656 deprecation.py:323] From c:\\users\\robert.colt\\appdata\\local\\programs\\python\\python36\\lib\\site-packages\\tensorflow\\python\\ops\\nn_impl.py:180: add_dispatch_support.<locals>.wrapper (from tensorflow.python.ops.array_ops) is deprecated and will be removed in a future version.\n",
      "Instructions for updating:\n",
      "Use tf.where in 2.0, which has the same broadcast rule as np.where\n",
      "W0813 11:42:35.447533  7656 deprecation.py:323] From C:\\Users\\robert.colt\\PycharmProjects\\TGS-Salt-Segmentation\\scripts\\loss_functions.py:33: to_int32 (from tensorflow.python.ops.math_ops) is deprecated and will be removed in a future version.\n",
      "Instructions for updating:\n",
      "Use `tf.cast` instead.\n",
      "W0813 11:42:35.451532  7656 deprecation_wrapper.py:119] From C:\\Users\\robert.colt\\PycharmProjects\\TGS-Salt-Segmentation\\scripts\\loss_functions.py:34: The name tf.metrics.mean_iou is deprecated. Please use tf.compat.v1.metrics.mean_iou instead.\n",
      "\n",
      "W0813 11:42:35.537632  7656 deprecation.py:323] From c:\\users\\robert.colt\\appdata\\local\\programs\\python\\python36\\lib\\site-packages\\tensorflow\\python\\ops\\metrics_impl.py:1179: div (from tensorflow.python.ops.math_ops) is deprecated and will be removed in a future version.\n",
      "Instructions for updating:\n",
      "Deprecated in favor of operator or tf.math.divide.\n"
     ]
    }
   ],
   "source": [
    "model = load_model(model_path, custom_objects={'iou':loss_functions.iou})"
   ]
  },
  {
   "cell_type": "code",
   "execution_count": 10,
   "metadata": {},
   "outputs": [],
   "source": [
    "def rle_encode(im):\n",
    "    pixels = im.flatten(order = 'F')\n",
    "    pixels = np.concatenate([[0], pixels, [0]])\n",
    "    runs = np.where(pixels[1:] != pixels[:-1])[0] + 1\n",
    "#     print(runs, runs[1::2])\n",
    "    runs[1::2] -= runs[::2]\n",
    "    return ' '.join(str(x) for x in runs)\n",
    "\n"
   ]
  },
  {
   "cell_type": "code",
   "execution_count": 12,
   "metadata": {},
   "outputs": [],
   "source": [
    "def predict(img, thresh):\n",
    "    if need_resize:\n",
    "        img = cv2.resize(img, (model_input_size , model_input_size), interpolation=cv2.INTER_CUBIC)\n",
    "    img = img.reshape((1, model_input_size, model_input_size, 1))\n",
    "    prediction = model.predict(img).reshape((model_input_size, model_input_size, 1))\n",
    "#     \n",
    "    prediction = (prediction > thresh).astype(float)\n",
    "    if need_resize:\n",
    "        prediction = cv2.resize(prediction, (101,101), interpolation=cv2.INTER_AREA)\n",
    "        prediction = prediction >= 0.99\n",
    "    return prediction"
   ]
  },
  {
   "cell_type": "code",
   "execution_count": 15,
   "metadata": {},
   "outputs": [
    {
     "ename": "ValueError",
     "evalue": "cannot reshape array of size 16384 into shape (1,101,101,1)",
     "output_type": "error",
     "traceback": [
      "\u001b[1;31m---------------------------------------------------------------------------\u001b[0m",
      "\u001b[1;31mValueError\u001b[0m                                Traceback (most recent call last)",
      "\u001b[1;32m<ipython-input-15-61d9c7a75441>\u001b[0m in \u001b[0;36m<module>\u001b[1;34m()\u001b[0m\n\u001b[0;32m      4\u001b[0m     \u001b[0mavg_iou\u001b[0m \u001b[1;33m=\u001b[0m \u001b[1;36m0\u001b[0m\u001b[1;33m\u001b[0m\u001b[1;33m\u001b[0m\u001b[0m\n\u001b[0;32m      5\u001b[0m     \u001b[1;32mfor\u001b[0m \u001b[0mi\u001b[0m\u001b[1;33m,\u001b[0m \u001b[0mimg\u001b[0m \u001b[1;32min\u001b[0m \u001b[0menumerate\u001b[0m\u001b[1;33m(\u001b[0m\u001b[0mrange\u001b[0m\u001b[1;33m(\u001b[0m\u001b[0mx_valid\u001b[0m\u001b[1;33m.\u001b[0m\u001b[0mshape\u001b[0m\u001b[1;33m[\u001b[0m\u001b[1;36m0\u001b[0m\u001b[1;33m]\u001b[0m\u001b[1;33m)\u001b[0m\u001b[1;33m)\u001b[0m\u001b[1;33m:\u001b[0m\u001b[1;33m\u001b[0m\u001b[1;33m\u001b[0m\u001b[0m\n\u001b[1;32m----> 6\u001b[1;33m         \u001b[0mprediction\u001b[0m \u001b[1;33m=\u001b[0m \u001b[0mmodel\u001b[0m\u001b[1;33m.\u001b[0m\u001b[0mpredict\u001b[0m\u001b[1;33m(\u001b[0m\u001b[0mx_valid\u001b[0m\u001b[1;33m[\u001b[0m\u001b[0mi\u001b[0m\u001b[1;33m]\u001b[0m\u001b[1;33m.\u001b[0m\u001b[0mreshape\u001b[0m\u001b[1;33m(\u001b[0m\u001b[1;36m1\u001b[0m\u001b[1;33m,\u001b[0m \u001b[1;36m101\u001b[0m\u001b[1;33m,\u001b[0m \u001b[1;36m101\u001b[0m\u001b[1;33m,\u001b[0m \u001b[1;36m1\u001b[0m\u001b[1;33m)\u001b[0m\u001b[1;33m)\u001b[0m\u001b[1;33m\u001b[0m\u001b[1;33m\u001b[0m\u001b[0m\n\u001b[0m\u001b[0;32m      7\u001b[0m         \u001b[0mavg_iou\u001b[0m \u001b[1;33m+=\u001b[0m \u001b[0mloss_functions\u001b[0m\u001b[1;33m.\u001b[0m\u001b[0miou_np\u001b[0m\u001b[1;33m(\u001b[0m\u001b[1;33m(\u001b[0m\u001b[0mprediction\u001b[0m \u001b[1;33m>\u001b[0m \u001b[0mthresh\u001b[0m\u001b[1;33m)\u001b[0m\u001b[1;33m.\u001b[0m\u001b[0mastype\u001b[0m\u001b[1;33m(\u001b[0m\u001b[0mint\u001b[0m\u001b[1;33m)\u001b[0m\u001b[1;33m,\u001b[0m \u001b[0my_valid\u001b[0m\u001b[1;33m[\u001b[0m\u001b[0mi\u001b[0m\u001b[1;33m]\u001b[0m\u001b[1;33m)\u001b[0m\u001b[1;33m\u001b[0m\u001b[1;33m\u001b[0m\u001b[0m\n\u001b[0;32m      8\u001b[0m \u001b[1;33m\u001b[0m\u001b[0m\n",
      "\u001b[1;31mValueError\u001b[0m: cannot reshape array of size 16384 into shape (1,101,101,1)"
     ]
    }
   ],
   "source": [
    "# find best threshhod\n",
    "thresh_iou = {}\n",
    "for thresh in np.arange(0.55, 1.0, 0.05):\n",
    "    avg_iou = 0\n",
    "    for i, img in enumerate(range(x_valid.shape[0])):\n",
    "        prediction = model.predict(x_valid[i].reshape(1, 101, 101, 1))\n",
    "        avg_iou += loss_functions.iou_np((prediction > thresh).astype(int), y_valid[i])\n",
    "    \n",
    "    avg_iou = avg_iou / x_valid.shape[0]\n",
    "    thresh_iou[thresh] = avg_iou\n",
    "    print(thresh_iou)"
   ]
  },
  {
   "cell_type": "code",
   "execution_count": null,
   "metadata": {},
   "outputs": [
    {
     "name": "stdout",
     "output_type": "stream",
     "text": [
      "0, 0.0s\n",
      "0.541629328920079\n",
      "200, 45.722532510757446s\n",
      "400, 47.26487445831299s\n",
      "600, 49.873963594436646s\n",
      "800, 48.65267205238342s\n",
      "1000, 50.97232246398926s\n",
      "1200, 48.60570049285889s\n",
      "1400, 48.90052914619446s\n",
      "1600, 48.01656413078308s\n",
      "1800, 48.086047887802124s\n",
      "2000, 47.86413049697876s\n",
      "2200, 48.108805894851685s\n",
      "2400, 47.3324499130249s\n",
      "2600, 47.39816665649414s\n",
      "2800, 50.373905658721924s\n",
      "3000, 51.796579360961914s\n",
      "3200, 49.79201579093933s\n",
      "3400, 49.732089042663574s\n",
      "3600, 53.188852071762085s\n",
      "3800, 52.60383081436157s\n"
     ]
    }
   ],
   "source": [
    "rle_masks = []\n",
    "maxcnt = 10\n",
    "start = time.time()\n",
    "\n",
    "\n",
    "for i, img_path in enumerate(test_img_paths):\n",
    "    if i%200 == 0:\n",
    "        print('{}, {}s'.format(i, time.time() - start))\n",
    "        start = time.time()\n",
    "    img = cv2.imread(img_path, 0)/255\n",
    "    if i == 0:\n",
    "        print(img.mean())\n",
    "    if need_resize:\n",
    "        img = cv2.resize(img, (model_input_size , model_input_size), interpolation=cv2.INTER_CUBIC)\n",
    "    img = img.reshape((1, model_input_size, model_input_size, 1))\n",
    "    prediction = model.predict(img).reshape((model_input_size, model_input_size, 1))\n",
    "    prediction = (prediction > 0.7).astype(float)\n",
    "    if need_resize:\n",
    "        prediction = cv2.resize(prediction, (101,101), interpolation=cv2.INTER_AREA)\n",
    "        prediction = prediction >= 0.99\n",
    "#     prediction = predict(img, 0.74)\n",
    "    rle_masks.append(rle_encode(prediction))\n",
    "\n",
    "print('finished 0.89')\n",
    "submission = {'id':test_img_ids, 'rle_mask':rle_masks}\n",
    "\n",
    "submission_df = pd.DataFrame.from_dict(submission)\n",
    "submission_df.to_csv(submission_path, index=0)"
   ]
  },
  {
   "cell_type": "code",
   "execution_count": 17,
   "metadata": {},
   "outputs": [],
   "source": [
    "submission = {'id':test_img_ids, 'rle_mask':rle_masks}\n",
    "\n",
    "submission_df = pd.DataFrame.from_dict(submission)\n",
    "submission_df.to_csv(submission_path, index=0)"
   ]
  },
  {
   "cell_type": "code",
   "execution_count": 23,
   "metadata": {},
   "outputs": [
    {
     "data": {
      "text/html": [
       "<div>\n",
       "<style scoped>\n",
       "    .dataframe tbody tr th:only-of-type {\n",
       "        vertical-align: middle;\n",
       "    }\n",
       "\n",
       "    .dataframe tbody tr th {\n",
       "        vertical-align: top;\n",
       "    }\n",
       "\n",
       "    .dataframe thead th {\n",
       "        text-align: right;\n",
       "    }\n",
       "</style>\n",
       "<table border=\"1\" class=\"dataframe\">\n",
       "  <thead>\n",
       "    <tr style=\"text-align: right;\">\n",
       "      <th></th>\n",
       "      <th>id</th>\n",
       "      <th>rle_mask</th>\n",
       "    </tr>\n",
       "  </thead>\n",
       "  <tbody>\n",
       "    <tr>\n",
       "      <th>0</th>\n",
       "      <td>0005bb9630</td>\n",
       "      <td></td>\n",
       "    </tr>\n",
       "    <tr>\n",
       "      <th>1</th>\n",
       "      <td>000a68e46c</td>\n",
       "      <td></td>\n",
       "    </tr>\n",
       "    <tr>\n",
       "      <th>2</th>\n",
       "      <td>000c8dfb2a</td>\n",
       "      <td></td>\n",
       "    </tr>\n",
       "    <tr>\n",
       "      <th>3</th>\n",
       "      <td>000d0a5f6c</td>\n",
       "      <td></td>\n",
       "    </tr>\n",
       "    <tr>\n",
       "      <th>4</th>\n",
       "      <td>001ef8fc87</td>\n",
       "      <td>1 7358 7363 7 7372 79 7475 71 7576 64 7677 58 ...</td>\n",
       "    </tr>\n",
       "  </tbody>\n",
       "</table>\n",
       "</div>"
      ],
      "text/plain": [
       "           id                                           rle_mask\n",
       "0  0005bb9630                                                   \n",
       "1  000a68e46c                                                   \n",
       "2  000c8dfb2a                                                   \n",
       "3  000d0a5f6c                                                   \n",
       "4  001ef8fc87  1 7358 7363 7 7372 79 7475 71 7576 64 7677 58 ..."
      ]
     },
     "execution_count": 23,
     "metadata": {},
     "output_type": "execute_result"
    }
   ],
   "source": [
    "submission_df.head()"
   ]
  },
  {
   "cell_type": "code",
   "execution_count": null,
   "metadata": {},
   "outputs": [],
   "source": []
  }
 ],
 "metadata": {
  "kernelspec": {
   "display_name": "Python 3",
   "language": "python",
   "name": "python3"
  },
  "language_info": {
   "codemirror_mode": {
    "name": "ipython",
    "version": 3
   },
   "file_extension": ".py",
   "mimetype": "text/x-python",
   "name": "python",
   "nbconvert_exporter": "python",
   "pygments_lexer": "ipython3",
   "version": "3.6.8"
  }
 },
 "nbformat": 4,
 "nbformat_minor": 2
}
