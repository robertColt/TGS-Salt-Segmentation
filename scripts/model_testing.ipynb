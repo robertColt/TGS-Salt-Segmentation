{
 "cells": [
  {
   "cell_type": "code",
   "execution_count": 1,
   "metadata": {},
   "outputs": [
    {
     "name": "stderr",
     "output_type": "stream",
     "text": [
      "Using TensorFlow backend.\n"
     ]
    }
   ],
   "source": [
    "import os\n",
    "\n",
    "import numpy as np\n",
    "\n",
    "from keras.models import load_model\n",
    "\n",
    "import cv2\n",
    "\n",
    "import pandas as pd\n",
    "\n",
    "import time\n",
    "\n",
    "import loss_functions\n"
   ]
  },
  {
   "cell_type": "code",
   "execution_count": 20,
   "metadata": {},
   "outputs": [],
   "source": [
    "model_path = '../models/trained/unet_101_binary_crossentropy_adam_accuracy.h5'\n",
    "model_input_size = 101 if '101' in model_path else 128\n",
    "\n",
    "test_img_path = '../data/test/'\n",
    "valid_img_path = '../data/{}/all_samples/'.format(model_input_size)\n",
    "submission_path = '../submissions/'+ model_path.split('/')[-1][:-3] + '.csv'\n",
    "\n",
    "need_resize = model_input_size != 101"
   ]
  },
  {
   "cell_type": "code",
   "execution_count": 16,
   "metadata": {},
   "outputs": [],
   "source": [
    "for root, dirs, test_img_names in os.walk(test_img_path):\n",
    "    test_img_ids = [img_name[:-4] for img_name in test_img_names]\n",
    "    test_img_paths = [test_img_path + img_name for img_name in test_img_names]"
   ]
  },
  {
   "cell_type": "code",
   "execution_count": null,
   "metadata": {},
   "outputs": [],
   "source": [
    "x_valid = np.load(valid_img_path + 'x_valid.npy')\n",
    "y_valid = np.load(valid_img_path + 'y_valid.npy')"
   ]
  },
  {
   "cell_type": "code",
   "execution_count": 21,
   "metadata": {
    "scrolled": true
   },
   "outputs": [
    {
     "name": "stderr",
     "output_type": "stream",
     "text": [
      "W0812 17:46:02.152350 15060 deprecation.py:506] From c:\\users\\robert.colt\\appdata\\local\\programs\\python\\python36\\lib\\site-packages\\keras\\backend\\tensorflow_backend.py:3445: calling dropout (from tensorflow.python.ops.nn_ops) with keep_prob is deprecated and will be removed in a future version.\n",
      "Instructions for updating:\n",
      "Please use `rate` instead of `keep_prob`. Rate should be set to `rate = 1 - keep_prob`.\n"
     ]
    }
   ],
   "source": [
    "model = load_model(model_path, custom_objects={'iou':loss_functions.iou})"
   ]
  },
  {
   "cell_type": "code",
   "execution_count": 5,
   "metadata": {},
   "outputs": [],
   "source": [
    "def rle_encode(im):\n",
    "    pixels = im.flatten(order = 'F')\n",
    "    pixels = np.concatenate([[0], pixels, [0]])\n",
    "    runs = np.where(pixels[1:] != pixels[:-1])[0] + 1\n",
    "#     print(runs, runs[1::2])\n",
    "    runs[1::2] -= runs[::2]\n",
    "    return ' '.join(str(x) for x in runs)\n",
    "\n"
   ]
  },
  {
   "cell_type": "code",
   "execution_count": null,
   "metadata": {},
   "outputs": [],
   "source": [
    "# find best threshhod\n",
    "thresh_iou = {}\n",
    "for thresh in np.arange(0.55, 1.0, 0.05):\n",
    "    avg_iou = 0\n",
    "    for i, img in enumerate(range(x_valid.shape[0])):\n",
    "        prediction = model.predict(x_valid[i].reshape(-1, 101, 101, 1))\n",
    "        avg_iou += loss_functions.iou_np((prediction > thresh).astype(int), y_valid[i])\n",
    "    \n",
    "    avg_iou = avg_iou / x_valid.shape[0]\n",
    "    thresh_iou[thresh] = avg_iou\n",
    "    print(thresh_iou)"
   ]
  },
  {
   "cell_type": "code",
   "execution_count": 22,
   "metadata": {},
   "outputs": [
    {
     "name": "stdout",
     "output_type": "stream",
     "text": [
      "0\n",
      "0.541629328920079\n",
      "200\n",
      "400\n",
      "600\n",
      "800\n",
      "1000\n",
      "1200\n",
      "1400\n",
      "1600\n",
      "1800\n",
      "2000\n",
      "2200\n",
      "2400\n",
      "2600\n",
      "2800\n",
      "3000\n",
      "3200\n",
      "3400\n",
      "3600\n",
      "3800\n",
      "4000\n",
      "4200\n",
      "4400\n",
      "4600\n",
      "4800\n",
      "5000\n",
      "5200\n",
      "5400\n",
      "5600\n",
      "5800\n",
      "6000\n",
      "6200\n",
      "6400\n",
      "6600\n",
      "6800\n",
      "7000\n",
      "7200\n",
      "7400\n",
      "7600\n",
      "7800\n",
      "8000\n",
      "8200\n",
      "8400\n",
      "8600\n",
      "8800\n",
      "9000\n",
      "9200\n",
      "9400\n",
      "9600\n",
      "9800\n",
      "10000\n",
      "10200\n",
      "10400\n",
      "10600\n",
      "10800\n",
      "11000\n",
      "11200\n",
      "11400\n",
      "11600\n",
      "11800\n",
      "12000\n",
      "12200\n",
      "12400\n",
      "12600\n",
      "12800\n",
      "13000\n",
      "13200\n",
      "13400\n",
      "13600\n",
      "13800\n",
      "14000\n",
      "14200\n",
      "14400\n",
      "14600\n",
      "14800\n",
      "15000\n",
      "15200\n",
      "15400\n",
      "15600\n",
      "15800\n",
      "16000\n",
      "16200\n",
      "16400\n",
      "16600\n",
      "16800\n",
      "17000\n",
      "17200\n",
      "17400\n",
      "17600\n",
      "17800\n",
      "finished 0.89\n"
     ]
    }
   ],
   "source": [
    "rle_masks = []\n",
    "maxcnt = 10\n",
    "start = time.time()\n",
    "\n",
    "\n",
    "for i, img_path in enumerate(test_img_paths):\n",
    "    if i%200 == 0:\n",
    "        print('{}'.format(i))\n",
    "    img = cv2.imread(img_path, 0)/255\n",
    "    if i == 0:\n",
    "        print(img.mean())\n",
    "    if need_resize:\n",
    "        img = cv2.resize(img, (model_input_size , model_input_size), interpolation=cv2.INTER_CUBIC)\n",
    "    img = img.reshape((1, model_input_size, model_input_size, 1))\n",
    "    prediction = model.predict(img).reshape((model_input_size, model_input_size, 1))\n",
    "    prediction = (prediction > 0.7).astype(float)\n",
    "    if need_resize:\n",
    "        prediction = cv2.resize(prediction, (101,101), interpolation=cv2.INTER_AREA)\n",
    "        prediction = prediction >= 0.99\n",
    "    rle_masks.append(rle_encode(prediction))\n",
    "\n",
    "print('finished 0.89')\n",
    "submission = {'id':test_img_ids, 'rle_mask':rle_masks}\n",
    "\n",
    "submission_df = pd.DataFrame.from_dict(submission)\n",
    "submission_df.to_csv(submission_path, index=0)"
   ]
  },
  {
   "cell_type": "code",
   "execution_count": 17,
   "metadata": {},
   "outputs": [],
   "source": [
    "submission = {'id':test_img_ids, 'rle_mask':rle_masks}\n",
    "\n",
    "submission_df = pd.DataFrame.from_dict(submission)\n",
    "submission_df.to_csv(submission_path, index=0)"
   ]
  },
  {
   "cell_type": "code",
   "execution_count": 23,
   "metadata": {},
   "outputs": [
    {
     "data": {
      "text/html": [
       "<div>\n",
       "<style scoped>\n",
       "    .dataframe tbody tr th:only-of-type {\n",
       "        vertical-align: middle;\n",
       "    }\n",
       "\n",
       "    .dataframe tbody tr th {\n",
       "        vertical-align: top;\n",
       "    }\n",
       "\n",
       "    .dataframe thead th {\n",
       "        text-align: right;\n",
       "    }\n",
       "</style>\n",
       "<table border=\"1\" class=\"dataframe\">\n",
       "  <thead>\n",
       "    <tr style=\"text-align: right;\">\n",
       "      <th></th>\n",
       "      <th>id</th>\n",
       "      <th>rle_mask</th>\n",
       "    </tr>\n",
       "  </thead>\n",
       "  <tbody>\n",
       "    <tr>\n",
       "      <th>0</th>\n",
       "      <td>0005bb9630</td>\n",
       "      <td></td>\n",
       "    </tr>\n",
       "    <tr>\n",
       "      <th>1</th>\n",
       "      <td>000a68e46c</td>\n",
       "      <td></td>\n",
       "    </tr>\n",
       "    <tr>\n",
       "      <th>2</th>\n",
       "      <td>000c8dfb2a</td>\n",
       "      <td></td>\n",
       "    </tr>\n",
       "    <tr>\n",
       "      <th>3</th>\n",
       "      <td>000d0a5f6c</td>\n",
       "      <td></td>\n",
       "    </tr>\n",
       "    <tr>\n",
       "      <th>4</th>\n",
       "      <td>001ef8fc87</td>\n",
       "      <td>1 7358 7363 7 7372 79 7475 71 7576 64 7677 58 ...</td>\n",
       "    </tr>\n",
       "  </tbody>\n",
       "</table>\n",
       "</div>"
      ],
      "text/plain": [
       "           id                                           rle_mask\n",
       "0  0005bb9630                                                   \n",
       "1  000a68e46c                                                   \n",
       "2  000c8dfb2a                                                   \n",
       "3  000d0a5f6c                                                   \n",
       "4  001ef8fc87  1 7358 7363 7 7372 79 7475 71 7576 64 7677 58 ..."
      ]
     },
     "execution_count": 23,
     "metadata": {},
     "output_type": "execute_result"
    }
   ],
   "source": [
    "submission_df.head()"
   ]
  },
  {
   "cell_type": "code",
   "execution_count": null,
   "metadata": {},
   "outputs": [],
   "source": []
  }
 ],
 "metadata": {
  "kernelspec": {
   "display_name": "Python 3",
   "language": "python",
   "name": "python3"
  },
  "language_info": {
   "codemirror_mode": {
    "name": "ipython",
    "version": 3
   },
   "file_extension": ".py",
   "mimetype": "text/x-python",
   "name": "python",
   "nbconvert_exporter": "python",
   "pygments_lexer": "ipython3",
   "version": "3.6.8"
  }
 },
 "nbformat": 4,
 "nbformat_minor": 2
}
